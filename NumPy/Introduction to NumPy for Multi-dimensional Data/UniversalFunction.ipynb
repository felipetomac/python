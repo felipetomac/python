{
 "cells": [
  {
   "cell_type": "code",
   "execution_count": 1,
   "id": "81ec2a30",
   "metadata": {},
   "outputs": [],
   "source": [
    "import numpy as np"
   ]
  },
  {
   "cell_type": "code",
   "execution_count": 2,
   "id": "41a054e5",
   "metadata": {},
   "outputs": [],
   "source": [
    "circle_radii = np.array([145,120,90,60,45,30])"
   ]
  },
  {
   "cell_type": "code",
   "execution_count": 3,
   "id": "c7928fa9",
   "metadata": {},
   "outputs": [
    {
     "data": {
      "text/plain": [
       "array([290, 240, 180, 120,  90,  60])"
      ]
     },
     "execution_count": 3,
     "metadata": {},
     "output_type": "execute_result"
    }
   ],
   "source": [
    "circle_diameters = 2 * circle_radii\n",
    "\n",
    "circle_diameters"
   ]
  },
  {
   "cell_type": "code",
   "execution_count": 4,
   "id": "940502d2",
   "metadata": {},
   "outputs": [
    {
     "data": {
      "text/plain": [
       "array([66051.98554173, 45238.93421169, 25446.90049408, 11309.73355292,\n",
       "        6361.72512352,  2827.43338823])"
      ]
     },
     "execution_count": 4,
     "metadata": {},
     "output_type": "execute_result"
    }
   ],
   "source": [
    "circle_areas = np.pi * circle_radii**2\n",
    "\n",
    "circle_areas"
   ]
  },
  {
   "cell_type": "code",
   "execution_count": 5,
   "id": "c21e7f6e",
   "metadata": {},
   "outputs": [],
   "source": [
    "angles_degrees = np.array([0, 30, 60, 90, 120, 150, 180])"
   ]
  },
  {
   "cell_type": "code",
   "execution_count": 6,
   "id": "6a08df02",
   "metadata": {},
   "outputs": [
    {
     "data": {
      "text/plain": [
       "array([0.        , 0.52359878, 1.04719755, 1.57079633, 2.0943951 ,\n",
       "       2.61799388, 3.14159265])"
      ]
     },
     "execution_count": 6,
     "metadata": {},
     "output_type": "execute_result"
    }
   ],
   "source": [
    "angle_radians = angles_degrees * np.pi / 180\n",
    "\n",
    "angle_radians"
   ]
  },
  {
   "cell_type": "code",
   "execution_count": 7,
   "id": "5b384782",
   "metadata": {},
   "outputs": [
    {
     "name": "stdout",
     "output_type": "stream",
     "text": [
      "Sine values\n"
     ]
    },
    {
     "data": {
      "text/plain": [
       "array([0.00000000e+00, 5.00000000e-01, 8.66025404e-01, 1.00000000e+00,\n",
       "       8.66025404e-01, 5.00000000e-01, 1.22464680e-16])"
      ]
     },
     "execution_count": 7,
     "metadata": {},
     "output_type": "execute_result"
    }
   ],
   "source": [
    "print('Sine values')\n",
    "\n",
    "np.sin(angle_radians)"
   ]
  },
  {
   "cell_type": "code",
   "execution_count": 8,
   "id": "65a2eeee",
   "metadata": {},
   "outputs": [
    {
     "name": "stdout",
     "output_type": "stream",
     "text": [
      "Cosine values:\n"
     ]
    },
    {
     "data": {
      "text/plain": [
       "array([ 1.00000000e+00,  8.66025404e-01,  5.00000000e-01,  6.12323400e-17,\n",
       "       -5.00000000e-01, -8.66025404e-01, -1.00000000e+00])"
      ]
     },
     "execution_count": 8,
     "metadata": {},
     "output_type": "execute_result"
    }
   ],
   "source": [
    "print('Cosine values:')\n",
    "np.cos(angle_radians)"
   ]
  },
  {
   "cell_type": "code",
   "execution_count": 9,
   "id": "525e3f7a",
   "metadata": {},
   "outputs": [
    {
     "name": "stdout",
     "output_type": "stream",
     "text": [
      "Cosine values:\n"
     ]
    },
    {
     "data": {
      "text/plain": [
       "array([ 0.00000000e+00,  5.77350269e-01,  1.73205081e+00,  1.63312394e+16,\n",
       "       -1.73205081e+00, -5.77350269e-01, -1.22464680e-16])"
      ]
     },
     "execution_count": 9,
     "metadata": {},
     "output_type": "execute_result"
    }
   ],
   "source": [
    "print('Cosine values:')\n",
    "np.tan(angle_radians)"
   ]
  },
  {
   "cell_type": "code",
   "execution_count": 10,
   "id": "4336f375",
   "metadata": {},
   "outputs": [],
   "source": [
    "sine_values = np.sin(angle_radians)"
   ]
  },
  {
   "cell_type": "code",
   "execution_count": 11,
   "id": "b2175e49",
   "metadata": {},
   "outputs": [
    {
     "data": {
      "text/plain": [
       "array([0.00000000e+00, 5.23598776e-01, 1.04719755e+00, 1.57079633e+00,\n",
       "       1.04719755e+00, 5.23598776e-01, 1.22464680e-16])"
      ]
     },
     "execution_count": 11,
     "metadata": {},
     "output_type": "execute_result"
    }
   ],
   "source": [
    "arcsine_values = np.arcsin(sine_values)\n",
    "\n",
    "arcsine_values"
   ]
  },
  {
   "cell_type": "code",
   "execution_count": 12,
   "id": "6649b8e6",
   "metadata": {},
   "outputs": [
    {
     "data": {
      "text/plain": [
       "array([0.0000000e+00, 3.0000000e+01, 6.0000000e+01, 9.0000000e+01,\n",
       "       6.0000000e+01, 3.0000000e+01, 7.0167093e-15])"
      ]
     },
     "execution_count": 12,
     "metadata": {},
     "output_type": "execute_result"
    }
   ],
   "source": [
    "arcsine_values * 180 / np.pi"
   ]
  },
  {
   "cell_type": "code",
   "execution_count": 13,
   "id": "d9d0b726",
   "metadata": {},
   "outputs": [
    {
     "data": {
      "text/plain": [
       "array([ 4,  9, 14, 19, 24, 29])"
      ]
     },
     "execution_count": 13,
     "metadata": {},
     "output_type": "execute_result"
    }
   ],
   "source": [
    "x = np.arange(4,31,5)\n",
    "\n",
    "x"
   ]
  },
  {
   "cell_type": "code",
   "execution_count": 14,
   "id": "b7b71a24",
   "metadata": {},
   "outputs": [
    {
     "data": {
      "text/plain": [
       "array([5.45981500e+01, 8.10308393e+03, 1.20260428e+06, 1.78482301e+08,\n",
       "       2.64891221e+10, 3.93133430e+12])"
      ]
     },
     "execution_count": 14,
     "metadata": {},
     "output_type": "execute_result"
    }
   ],
   "source": [
    "expo = np.exp(x)\n",
    "\n",
    "expo"
   ]
  },
  {
   "cell_type": "code",
   "execution_count": 15,
   "id": "f40badeb",
   "metadata": {},
   "outputs": [
    {
     "data": {
      "text/plain": [
       "array([2.        , 3.        , 3.74165739, 4.35889894, 4.89897949,\n",
       "       5.38516481])"
      ]
     },
     "execution_count": 15,
     "metadata": {},
     "output_type": "execute_result"
    }
   ],
   "source": [
    "sqrt = np.sqrt(x)\n",
    "\n",
    "sqrt"
   ]
  },
  {
   "cell_type": "code",
   "execution_count": 16,
   "id": "944cafd7",
   "metadata": {},
   "outputs": [
    {
     "data": {
      "text/plain": [
       "16.5"
      ]
     },
     "execution_count": 16,
     "metadata": {},
     "output_type": "execute_result"
    }
   ],
   "source": [
    "np.median(x)"
   ]
  },
  {
   "cell_type": "code",
   "execution_count": null,
   "id": "079268e0",
   "metadata": {},
   "outputs": [],
   "source": []
  },
  {
   "cell_type": "code",
   "execution_count": null,
   "id": "3d6bd92d",
   "metadata": {},
   "outputs": [],
   "source": []
  }
 ],
 "metadata": {
  "kernelspec": {
   "display_name": "Python 3 (ipykernel)",
   "language": "python",
   "name": "python3"
  },
  "language_info": {
   "codemirror_mode": {
    "name": "ipython",
    "version": 3
   },
   "file_extension": ".py",
   "mimetype": "text/x-python",
   "name": "python",
   "nbconvert_exporter": "python",
   "pygments_lexer": "ipython3",
   "version": "3.9.12"
  }
 },
 "nbformat": 4,
 "nbformat_minor": 5
}
