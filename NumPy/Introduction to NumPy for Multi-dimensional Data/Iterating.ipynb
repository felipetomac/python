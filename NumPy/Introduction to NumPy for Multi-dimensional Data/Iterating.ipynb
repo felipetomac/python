{
 "cells": [
  {
   "cell_type": "code",
   "execution_count": 1,
   "id": "445745d2",
   "metadata": {},
   "outputs": [],
   "source": [
    "import numpy as np"
   ]
  },
  {
   "cell_type": "code",
   "execution_count": 2,
   "id": "b089db65",
   "metadata": {},
   "outputs": [
    {
     "data": {
      "text/plain": [
       "array([  0,   1,   8,  27,  64, 125, 216, 343, 512, 729], dtype=int32)"
      ]
     },
     "execution_count": 2,
     "metadata": {},
     "output_type": "execute_result"
    }
   ],
   "source": [
    "x = np.arange(10)**3\n",
    "\n",
    "x"
   ]
  },
  {
   "cell_type": "code",
   "execution_count": 3,
   "id": "4531446d",
   "metadata": {},
   "outputs": [
    {
     "name": "stdout",
     "output_type": "stream",
     "text": [
      "0\n",
      "1\n",
      "8\n",
      "27\n",
      "64\n",
      "125\n",
      "216\n",
      "343\n",
      "512\n",
      "729\n"
     ]
    }
   ],
   "source": [
    "for i in x:\n",
    "    print(i)"
   ]
  },
  {
   "cell_type": "code",
   "execution_count": 4,
   "id": "76162d6b",
   "metadata": {},
   "outputs": [],
   "source": [
    "companies = np.array([['Samsung','Microsoft','IBM','Spotify','Flipkart'],\n",
    "                      [1938,1975,1911,2006,2007],\n",
    "                      [489000,131,380000,3000,30000]])"
   ]
  },
  {
   "cell_type": "code",
   "execution_count": 5,
   "id": "038c95b0",
   "metadata": {},
   "outputs": [
    {
     "name": "stdout",
     "output_type": "stream",
     "text": [
      "Row 0 :  ['Samsung' 'Microsoft' 'IBM' 'Spotify' 'Flipkart']\n",
      "Row 1 :  ['1938' '1975' '1911' '2006' '2007']\n",
      "Row 2 :  ['489000' '131' '380000' '3000' '30000']\n"
     ]
    }
   ],
   "source": [
    "i = 0\n",
    "for row in companies:\n",
    "    print('Row', i, ': ',row)\n",
    "    i += 1"
   ]
  },
  {
   "cell_type": "code",
   "execution_count": 6,
   "id": "616e4013",
   "metadata": {},
   "outputs": [
    {
     "data": {
      "text/plain": [
       "array(['Samsung', 'Microsoft', 'IBM', 'Spotify', 'Flipkart', '1938',\n",
       "       '1975', '1911', '2006', '2007', '489000', '131', '380000', '3000',\n",
       "       '30000'], dtype='<U11')"
      ]
     },
     "execution_count": 6,
     "metadata": {},
     "output_type": "execute_result"
    }
   ],
   "source": [
    "#2D array has been flattened to 1 dimension\n",
    "companies.flatten()"
   ]
  },
  {
   "cell_type": "code",
   "execution_count": 8,
   "id": "fbbf5d49",
   "metadata": {},
   "outputs": [
    {
     "name": "stdout",
     "output_type": "stream",
     "text": [
      "Samsung\n",
      "1938\n",
      "489000\n",
      "Microsoft\n",
      "1975\n",
      "131\n",
      "IBM\n",
      "1911\n",
      "380000\n",
      "Spotify\n",
      "2006\n",
      "3000\n",
      "Flipkart\n",
      "2007\n",
      "30000\n"
     ]
    }
   ],
   "source": [
    "#flatten column wide\n",
    "for data in companies.flatten(order = 'F'):\n",
    "    print(data)"
   ]
  },
  {
   "cell_type": "code",
   "execution_count": 10,
   "id": "1c3276da",
   "metadata": {},
   "outputs": [
    {
     "data": {
      "text/plain": [
       "array([[ 0,  1,  2,  3],\n",
       "       [ 4,  5,  6,  7],\n",
       "       [ 8,  9, 10, 11],\n",
       "       [12, 13, 14, 15]])"
      ]
     },
     "execution_count": 10,
     "metadata": {},
     "output_type": "execute_result"
    }
   ],
   "source": [
    "num = np.arange(16).reshape(4,4)\n",
    "num"
   ]
  },
  {
   "cell_type": "code",
   "execution_count": 11,
   "id": "49f56c85",
   "metadata": {},
   "outputs": [
    {
     "name": "stdout",
     "output_type": "stream",
     "text": [
      "0\n",
      "1\n",
      "2\n",
      "3\n",
      "4\n",
      "5\n",
      "6\n",
      "7\n",
      "8\n",
      "9\n",
      "10\n",
      "11\n",
      "12\n",
      "13\n",
      "14\n",
      "15\n"
     ]
    }
   ],
   "source": [
    "for i in np.nditer(num):\n",
    "    print(i)"
   ]
  },
  {
   "cell_type": "code",
   "execution_count": 12,
   "id": "c950f1a2",
   "metadata": {},
   "outputs": [
    {
     "name": "stdout",
     "output_type": "stream",
     "text": [
      "0\n",
      "4\n",
      "8\n",
      "12\n",
      "1\n",
      "5\n",
      "9\n",
      "13\n",
      "2\n",
      "6\n",
      "10\n",
      "14\n",
      "3\n",
      "7\n",
      "11\n",
      "15\n"
     ]
    }
   ],
   "source": [
    "for i in np.nditer(num, order = 'F'):\n",
    "    print(i)"
   ]
  },
  {
   "cell_type": "code",
   "execution_count": 13,
   "id": "b1bc5f1f",
   "metadata": {},
   "outputs": [
    {
     "name": "stdout",
     "output_type": "stream",
     "text": [
      "[ 0  4  8 12]\n",
      "[ 1  5  9 13]\n",
      "[ 2  6 10 14]\n",
      "[ 3  7 11 15]\n"
     ]
    }
   ],
   "source": [
    "for i in np.nditer(num, order = 'F', flags = ['external_loop']):\n",
    "    print(i)"
   ]
  },
  {
   "cell_type": "code",
   "execution_count": 14,
   "id": "64990894",
   "metadata": {},
   "outputs": [
    {
     "ename": "ValueError",
     "evalue": "assignment destination is read-only",
     "output_type": "error",
     "traceback": [
      "\u001b[1;31m---------------------------------------------------------------------------\u001b[0m",
      "\u001b[1;31mValueError\u001b[0m                                Traceback (most recent call last)",
      "Input \u001b[1;32mIn [14]\u001b[0m, in \u001b[0;36m<cell line: 1>\u001b[1;34m()\u001b[0m\n\u001b[0;32m      1\u001b[0m \u001b[38;5;28;01mfor\u001b[39;00m array \u001b[38;5;129;01min\u001b[39;00m np\u001b[38;5;241m.\u001b[39mnditer(num):\n\u001b[1;32m----> 2\u001b[0m     array[\u001b[38;5;241m.\u001b[39m\u001b[38;5;241m.\u001b[39m\u001b[38;5;241m.\u001b[39m] \u001b[38;5;241m=\u001b[39m array \u001b[38;5;241m*\u001b[39m array\n",
      "\u001b[1;31mValueError\u001b[0m: assignment destination is read-only"
     ]
    }
   ],
   "source": [
    "for array in np.nditer(num):\n",
    "    array[...] = array * array"
   ]
  },
  {
   "cell_type": "code",
   "execution_count": 15,
   "id": "c6013b25",
   "metadata": {},
   "outputs": [],
   "source": [
    "for array in np.nditer(num, op_flags = ['readwrite']):\n",
    "    array[...] = array * array"
   ]
  },
  {
   "cell_type": "code",
   "execution_count": 16,
   "id": "eb60a61c",
   "metadata": {},
   "outputs": [
    {
     "data": {
      "text/plain": [
       "array([[  0,   1,   4,   9],\n",
       "       [ 16,  25,  36,  49],\n",
       "       [ 64,  81, 100, 121],\n",
       "       [144, 169, 196, 225]])"
      ]
     },
     "execution_count": 16,
     "metadata": {},
     "output_type": "execute_result"
    }
   ],
   "source": [
    "num"
   ]
  },
  {
   "cell_type": "code",
   "execution_count": null,
   "id": "f4268a96",
   "metadata": {},
   "outputs": [],
   "source": []
  }
 ],
 "metadata": {
  "kernelspec": {
   "display_name": "Python 3 (ipykernel)",
   "language": "python",
   "name": "python3"
  },
  "language_info": {
   "codemirror_mode": {
    "name": "ipython",
    "version": 3
   },
   "file_extension": ".py",
   "mimetype": "text/x-python",
   "name": "python",
   "nbconvert_exporter": "python",
   "pygments_lexer": "ipython3",
   "version": "3.9.12"
  }
 },
 "nbformat": 4,
 "nbformat_minor": 5
}
