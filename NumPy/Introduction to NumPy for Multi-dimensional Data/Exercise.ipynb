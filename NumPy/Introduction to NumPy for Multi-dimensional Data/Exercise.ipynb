{
 "cells": [
  {
   "cell_type": "code",
   "execution_count": 12,
   "id": "b2ed9ed2",
   "metadata": {},
   "outputs": [
    {
     "data": {
      "text/plain": [
       "array([[1., 1., 1., 1.],\n",
       "       [1., 1., 1., 1.]])"
      ]
     },
     "execution_count": 12,
     "metadata": {},
     "output_type": "execute_result"
    }
   ],
   "source": [
    "#Create an array x of the same shape as another array y with all elements set to 1\n",
    "import numpy as np\n",
    "x = np.ones((2,4))"
   ]
  },
  {
   "cell_type": "code",
   "execution_count": 50,
   "id": "94bf0630",
   "metadata": {},
   "outputs": [
    {
     "data": {
      "text/plain": [
       "array([[ 41,  42,  43,  44,  45],\n",
       "       [ 49,  50,  51,  52,  53],\n",
       "       [ 57,  58,  59,  60,  61],\n",
       "       [ 65,  66,  67,  68,  69],\n",
       "       [ 73,  74,  75,  76,  77],\n",
       "       [ 81,  82,  83,  84,  85],\n",
       "       [ 89,  90,  91,  92,  93],\n",
       "       [ 97,  98,  99, 100, 101],\n",
       "       [105, 106, 107, 108, 109],\n",
       "       [113, 114, 115, 116, 117],\n",
       "       [121, 122, 123, 124, 125],\n",
       "       [129, 130, 131, 132, 133],\n",
       "       [137, 138, 139, 140, 141],\n",
       "       [145, 146, 147, 148, 149],\n",
       "       [153, 154, 155, 156, 157],\n",
       "       [161, 162, 163, 164, 165],\n",
       "       [169, 170, 171, 172, 173],\n",
       "       [177, 178, 179, 180, 181],\n",
       "       [185, 186, 187, 188, 189],\n",
       "       [193, 194, 195, 196, 197]])"
      ]
     },
     "execution_count": 50,
     "metadata": {},
     "output_type": "execute_result"
    }
   ],
   "source": [
    "#Retrieve the last 20 rows and the second to fifth columns of a 2-D array\n",
    "x = np.arange(200).reshape(25,8)\n",
    "x[-20:,1:6]\n"
   ]
  },
  {
   "cell_type": "raw",
   "id": "3cd998f7",
   "metadata": {},
   "source": []
  },
  {
   "cell_type": "code",
   "execution_count": 55,
   "id": "91af1c58",
   "metadata": {},
   "outputs": [
    {
     "data": {
      "text/plain": [
       "array([  0,   1,   2,   3,   4,   5,   6,   7,   8,   9,  10,  11,  12,\n",
       "        13,  14,  15,  16,  17,  18,  19,  20,  21,  22,  23,  24,  25,\n",
       "        26,  27,  28,  29,  30,  31,  32,  33,  34,  35,  36,  37,  38,\n",
       "        39,  40,  41,  42,  43,  44,  45,  46,  47,  48,  49,  50,  51,\n",
       "        52,  53,  54,  55,  56,  57,  58,  59,  60,  61,  62,  63,  64,\n",
       "        65,  66,  67,  68,  69,  70,  71,  72,  73,  74,  75,  76,  77,\n",
       "        78,  79,  80,  81,  82,  83,  84,  85,  86,  87,  88,  89,  90,\n",
       "        91,  92,  93,  94,  95,  96,  97,  98,  99, 100, 101, 102, 103,\n",
       "       104, 105, 106, 107, 108, 109, 110, 111, 112, 113, 114, 115, 116,\n",
       "       117, 118, 119, 120, 121, 122, 123, 124, 125, 126, 127, 128, 129,\n",
       "       130, 131, 132, 133, 134, 135, 136, 137, 138, 139, 140, 141, 142,\n",
       "       143, 144, 145, 146, 147, 148, 149, 150, 151, 152, 153, 154, 155,\n",
       "       156, 157, 158, 159, 160, 161, 162, 163, 164, 165, 166, 167, 168,\n",
       "       169, 170, 171, 172, 173, 174, 175, 176, 177, 178, 179, 180, 181,\n",
       "       182, 183, 184, 185, 186, 187, 188, 189, 190, 191, 192, 193, 194,\n",
       "       195, 196, 197, 198, 199])"
      ]
     },
     "execution_count": 55,
     "metadata": {},
     "output_type": "execute_result"
    }
   ],
   "source": [
    "#Recall the 2 main ways in which a 2-D array can be flattened to a 1-D array\n",
    "x = np.arange(200).reshape(25,8)\n",
    "x.ravel()\n",
    "x.flatten()"
   ]
  },
  {
   "cell_type": "code",
   "execution_count": 56,
   "id": "d5e853ee",
   "metadata": {},
   "outputs": [],
   "source": []
  },
  {
   "cell_type": "code",
   "execution_count": null,
   "id": "cf73b3bf",
   "metadata": {},
   "outputs": [],
   "source": []
  },
  {
   "cell_type": "code",
   "execution_count": null,
   "id": "3348fe7a",
   "metadata": {},
   "outputs": [],
   "source": []
  },
  {
   "cell_type": "code",
   "execution_count": null,
   "id": "2a15d095",
   "metadata": {},
   "outputs": [],
   "source": []
  }
 ],
 "metadata": {
  "kernelspec": {
   "display_name": "Python 3 (ipykernel)",
   "language": "python",
   "name": "python3"
  },
  "language_info": {
   "codemirror_mode": {
    "name": "ipython",
    "version": 3
   },
   "file_extension": ".py",
   "mimetype": "text/x-python",
   "name": "python",
   "nbconvert_exporter": "python",
   "pygments_lexer": "ipython3",
   "version": "3.9.12"
  }
 },
 "nbformat": 4,
 "nbformat_minor": 5
}
