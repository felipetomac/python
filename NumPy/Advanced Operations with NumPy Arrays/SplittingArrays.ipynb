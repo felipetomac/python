{
 "cells": [
  {
   "cell_type": "code",
   "execution_count": 1,
   "id": "d0fc76d2",
   "metadata": {},
   "outputs": [],
   "source": [
    "import numpy as np"
   ]
  },
  {
   "cell_type": "code",
   "execution_count": 2,
   "id": "a6b75cce",
   "metadata": {},
   "outputs": [
    {
     "data": {
      "text/plain": [
       "array([ 0,  1,  2,  3,  4,  5,  6,  7,  8,  9, 10, 11])"
      ]
     },
     "execution_count": 2,
     "metadata": {},
     "output_type": "execute_result"
    }
   ],
   "source": [
    "p = np.arange(12)\n",
    "p"
   ]
  },
  {
   "cell_type": "code",
   "execution_count": 15,
   "id": "3b679683",
   "metadata": {},
   "outputs": [
    {
     "name": "stdout",
     "output_type": "stream",
     "text": [
      "Split the array at positions indicated 1-D array :\n"
     ]
    },
    {
     "data": {
      "text/plain": [
       "[array([0, 1, 2]), array([3, 4, 5, 6, 7]), array([ 8,  9, 10, 11])]"
      ]
     },
     "execution_count": 15,
     "metadata": {},
     "output_type": "execute_result"
    }
   ],
   "source": [
    "print('Split the array at positions indicated 1-D array :')\n",
    "#np.split(p,2)\n",
    "np.split(p, [3,8])"
   ]
  },
  {
   "cell_type": "code",
   "execution_count": 8,
   "id": "2b115cc3",
   "metadata": {},
   "outputs": [
    {
     "data": {
      "text/plain": [
       "array([['IBM', 'Apple Inc.', 'Intel', 'Sony', 'Dell', 'Akamai'],\n",
       "       ['New York', 'California', 'California', 'Texas', 'Washington',\n",
       "        'Massachusetts']], dtype='<U13')"
      ]
     },
     "execution_count": 8,
     "metadata": {},
     "output_type": "execute_result"
    }
   ],
   "source": [
    "array = np.array([['IBM','Apple Inc.','Intel','Sony','Dell','Akamai'],\n",
    "                  ['New York','California','California','Texas','Washington',\n",
    "                  'Massachusetts']], dtype = '<U13')\n",
    "array"
   ]
  },
  {
   "cell_type": "code",
   "execution_count": 9,
   "id": "ab23728a",
   "metadata": {},
   "outputs": [],
   "source": [
    "#horizontal split - columnwise\n",
    "x1, x2 = np.hsplit(array,2)"
   ]
  },
  {
   "cell_type": "code",
   "execution_count": 10,
   "id": "6d435963",
   "metadata": {},
   "outputs": [
    {
     "name": "stdout",
     "output_type": "stream",
     "text": [
      "x1: \n",
      " [['IBM' 'Apple Inc.' 'Intel']\n",
      " ['New York' 'California' 'California']]\n",
      "x2: \n",
      " [['Sony' 'Dell' 'Akamai']\n",
      " ['Texas' 'Washington' 'Massachusetts']]\n"
     ]
    }
   ],
   "source": [
    "print('x1: \\n', x1)\n",
    "print('x2: \\n', x2)"
   ]
  },
  {
   "cell_type": "code",
   "execution_count": 11,
   "id": "01c8c587",
   "metadata": {},
   "outputs": [
    {
     "data": {
      "text/plain": [
       "[array([['IBM'],\n",
       "        ['New York']], dtype='<U13'),\n",
       " array([['Apple Inc.'],\n",
       "        ['California']], dtype='<U13'),\n",
       " array([['Intel'],\n",
       "        ['California']], dtype='<U13'),\n",
       " array([['Sony'],\n",
       "        ['Texas']], dtype='<U13'),\n",
       " array([['Dell'],\n",
       "        ['Washington']], dtype='<U13'),\n",
       " array([['Akamai'],\n",
       "        ['Massachusetts']], dtype='<U13')]"
      ]
     },
     "execution_count": 11,
     "metadata": {},
     "output_type": "execute_result"
    }
   ],
   "source": [
    "np.hsplit(array,6)"
   ]
  },
  {
   "cell_type": "code",
   "execution_count": 12,
   "id": "08dd76be",
   "metadata": {},
   "outputs": [],
   "source": [
    "#vertical split - row-wise\n",
    "y1, y2 = np.vsplit(array,2)"
   ]
  },
  {
   "cell_type": "code",
   "execution_count": 13,
   "id": "2c7cbc00",
   "metadata": {},
   "outputs": [
    {
     "name": "stdout",
     "output_type": "stream",
     "text": [
      "y1: \n",
      " [['IBM' 'Apple Inc.' 'Intel' 'Sony' 'Dell' 'Akamai']]\n",
      "y2: \n",
      " [['New York' 'California' 'California' 'Texas' 'Washington'\n",
      "  'Massachusetts']]\n"
     ]
    }
   ],
   "source": [
    "print('y1: \\n', y1)\n",
    "print('y2: \\n', y2)"
   ]
  },
  {
   "cell_type": "code",
   "execution_count": null,
   "id": "1a765b24",
   "metadata": {},
   "outputs": [],
   "source": []
  }
 ],
 "metadata": {
  "kernelspec": {
   "display_name": "Python 3 (ipykernel)",
   "language": "python",
   "name": "python3"
  },
  "language_info": {
   "codemirror_mode": {
    "name": "ipython",
    "version": 3
   },
   "file_extension": ".py",
   "mimetype": "text/x-python",
   "name": "python",
   "nbconvert_exporter": "python",
   "pygments_lexer": "ipython3",
   "version": "3.9.12"
  }
 },
 "nbformat": 4,
 "nbformat_minor": 5
}
