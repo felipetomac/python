{
 "cells": [
  {
   "cell_type": "code",
   "execution_count": 1,
   "id": "da019cfc",
   "metadata": {},
   "outputs": [],
   "source": [
    "import numpy as np"
   ]
  },
  {
   "cell_type": "code",
   "execution_count": 2,
   "id": "4d8d4b19",
   "metadata": {},
   "outputs": [],
   "source": [
    "countries = np.array(['India', 'Peru', 'USA', 'Nigeria', 'Pakistan', 'Germany'])"
   ]
  },
  {
   "cell_type": "code",
   "execution_count": 3,
   "id": "be45749e",
   "metadata": {},
   "outputs": [
    {
     "data": {
      "text/plain": [
       "array(['India', 'Peru', 'USA', 'Nigeria', 'Pakistan', 'Germany'],\n",
       "      dtype='<U8')"
      ]
     },
     "execution_count": 3,
     "metadata": {},
     "output_type": "execute_result"
    }
   ],
   "source": [
    "loc = countries.copy()\n",
    "\n",
    "loc"
   ]
  },
  {
   "cell_type": "code",
   "execution_count": 4,
   "id": "f356baeb",
   "metadata": {},
   "outputs": [
    {
     "data": {
      "text/plain": [
       "False"
      ]
     },
     "execution_count": 4,
     "metadata": {},
     "output_type": "execute_result"
    }
   ],
   "source": [
    "loc is countries"
   ]
  },
  {
   "cell_type": "code",
   "execution_count": 5,
   "id": "9592eed2",
   "metadata": {},
   "outputs": [
    {
     "data": {
      "text/plain": [
       "False"
      ]
     },
     "execution_count": 5,
     "metadata": {},
     "output_type": "execute_result"
    }
   ],
   "source": [
    "loc.base is countries"
   ]
  },
  {
   "cell_type": "code",
   "execution_count": 6,
   "id": "8f203406",
   "metadata": {},
   "outputs": [
    {
     "data": {
      "text/plain": [
       "array(['Turkey', 'Peru', 'USA', 'Nigeria', 'Pakistan', 'Germany'],\n",
       "      dtype='<U8')"
      ]
     },
     "execution_count": 6,
     "metadata": {},
     "output_type": "execute_result"
    }
   ],
   "source": [
    "loc[0] = 'Turkey'\n",
    "\n",
    "loc"
   ]
  },
  {
   "cell_type": "code",
   "execution_count": 7,
   "id": "e2388a11",
   "metadata": {},
   "outputs": [
    {
     "data": {
      "text/plain": [
       "array(['India', 'Peru', 'USA', 'Nigeria', 'Pakistan', 'Germany'],\n",
       "      dtype='<U8')"
      ]
     },
     "execution_count": 7,
     "metadata": {},
     "output_type": "execute_result"
    }
   ],
   "source": [
    "countries"
   ]
  },
  {
   "cell_type": "code",
   "execution_count": 8,
   "id": "74b7bb11",
   "metadata": {},
   "outputs": [],
   "source": [
    "loc.shape = 2,3"
   ]
  },
  {
   "cell_type": "code",
   "execution_count": 9,
   "id": "779e1d93",
   "metadata": {},
   "outputs": [
    {
     "name": "stdout",
     "output_type": "stream",
     "text": [
      "Contents of loc :\n",
      "[['Turkey' 'Peru' 'USA']\n",
      " ['Nigeria' 'Pakistan' 'Germany']]\n"
     ]
    }
   ],
   "source": [
    "print('Contents of loc :')\n",
    "print(loc)"
   ]
  },
  {
   "cell_type": "code",
   "execution_count": 10,
   "id": "74ece522",
   "metadata": {},
   "outputs": [
    {
     "name": "stdout",
     "output_type": "stream",
     "text": [
      "Shape of locations :\n",
      "['India' 'Peru' 'USA' 'Nigeria' 'Pakistan' 'Germany']\n"
     ]
    }
   ],
   "source": [
    "print('Shape of locations :')\n",
    "print(countries)"
   ]
  },
  {
   "cell_type": "code",
   "execution_count": null,
   "id": "6007d52c",
   "metadata": {},
   "outputs": [],
   "source": []
  }
 ],
 "metadata": {
  "kernelspec": {
   "display_name": "Python 3 (ipykernel)",
   "language": "python",
   "name": "python3"
  },
  "language_info": {
   "codemirror_mode": {
    "name": "ipython",
    "version": 3
   },
   "file_extension": ".py",
   "mimetype": "text/x-python",
   "name": "python",
   "nbconvert_exporter": "python",
   "pygments_lexer": "ipython3",
   "version": "3.9.12"
  }
 },
 "nbformat": 4,
 "nbformat_minor": 5
}
