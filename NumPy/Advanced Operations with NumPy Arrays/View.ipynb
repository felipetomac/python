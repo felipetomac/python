{
 "cells": [
  {
   "cell_type": "code",
   "execution_count": 1,
   "id": "b241bbea",
   "metadata": {},
   "outputs": [],
   "source": [
    "import numpy as np"
   ]
  },
  {
   "cell_type": "code",
   "execution_count": 2,
   "id": "598c0236",
   "metadata": {},
   "outputs": [],
   "source": [
    "countries = np.array(['India', 'Peru', 'USA', 'Nigeria', 'Pakistan', 'Germany'])"
   ]
  },
  {
   "cell_type": "code",
   "execution_count": 3,
   "id": "fb181e99",
   "metadata": {},
   "outputs": [],
   "source": [
    "loc_1 = countries.view()\n",
    "loc_2 = countries.view()"
   ]
  },
  {
   "cell_type": "code",
   "execution_count": 4,
   "id": "c7bc7ec3",
   "metadata": {},
   "outputs": [
    {
     "name": "stdout",
     "output_type": "stream",
     "text": [
      "['India' 'Peru' 'USA' 'Nigeria' 'Pakistan' 'Germany']\n"
     ]
    }
   ],
   "source": [
    "print(loc_1)"
   ]
  },
  {
   "cell_type": "code",
   "execution_count": 5,
   "id": "45edd2ef",
   "metadata": {},
   "outputs": [
    {
     "name": "stdout",
     "output_type": "stream",
     "text": [
      "['India' 'Peru' 'USA' 'Nigeria' 'Pakistan' 'Germany']\n"
     ]
    }
   ],
   "source": [
    "print(loc_2)"
   ]
  },
  {
   "cell_type": "code",
   "execution_count": 6,
   "id": "ae1af8cd",
   "metadata": {},
   "outputs": [
    {
     "name": "stdout",
     "output_type": "stream",
     "text": [
      "IDs for the Arrays are different :\n",
      "\n",
      "ID for the coutries is : 1453183282608\n",
      "\n",
      "ID for the loc views are :\n",
      "1452656743024\n",
      "1452656970800\n"
     ]
    }
   ],
   "source": [
    "print('IDs for the Arrays are different :')\n",
    "print('\\nID for the coutries is :', id(countries))\n",
    "\n",
    "print('\\nID for the loc views are :')\n",
    "print(id(loc_1))\n",
    "print(id(loc_2))"
   ]
  },
  {
   "cell_type": "code",
   "execution_count": 7,
   "id": "d62ad919",
   "metadata": {},
   "outputs": [
    {
     "data": {
      "text/plain": [
       "False"
      ]
     },
     "execution_count": 7,
     "metadata": {},
     "output_type": "execute_result"
    }
   ],
   "source": [
    "loc_1 is countries"
   ]
  },
  {
   "cell_type": "code",
   "execution_count": 8,
   "id": "691d0a27",
   "metadata": {},
   "outputs": [
    {
     "data": {
      "text/plain": [
       "True"
      ]
     },
     "execution_count": 8,
     "metadata": {},
     "output_type": "execute_result"
    }
   ],
   "source": [
    "loc_1.base is countries"
   ]
  },
  {
   "cell_type": "code",
   "execution_count": 10,
   "id": "c75407ef",
   "metadata": {},
   "outputs": [
    {
     "data": {
      "text/plain": [
       "array(['India', 'Peru', 'USA', 'Ghana', 'Pakistan', 'Germany'],\n",
       "      dtype='<U8')"
      ]
     },
     "execution_count": 10,
     "metadata": {},
     "output_type": "execute_result"
    }
   ],
   "source": [
    "loc_2[3] = 'Ghana'\n",
    "\n",
    "loc_2 "
   ]
  },
  {
   "cell_type": "code",
   "execution_count": 12,
   "id": "d7fa542e",
   "metadata": {},
   "outputs": [
    {
     "data": {
      "text/plain": [
       "array(['India', 'Peru', 'USA', 'Ghana', 'Pakistan', 'Germany'],\n",
       "      dtype='<U8')"
      ]
     },
     "execution_count": 12,
     "metadata": {},
     "output_type": "execute_result"
    }
   ],
   "source": [
    "countries"
   ]
  },
  {
   "cell_type": "code",
   "execution_count": 13,
   "id": "3e101c65",
   "metadata": {},
   "outputs": [
    {
     "data": {
      "text/plain": [
       "array(['India', 'Peru', 'USA', 'Ghana', 'Pakistan', 'Germany'],\n",
       "      dtype='<U8')"
      ]
     },
     "execution_count": 13,
     "metadata": {},
     "output_type": "execute_result"
    }
   ],
   "source": [
    "loc_1"
   ]
  },
  {
   "cell_type": "code",
   "execution_count": 14,
   "id": "5fa83544",
   "metadata": {},
   "outputs": [
    {
     "data": {
      "text/plain": [
       "array(['France', 'Iran', 'Australia', 'Mexico', 'Cuba', 'Egypt'],\n",
       "      dtype='<U9')"
      ]
     },
     "execution_count": 14,
     "metadata": {},
     "output_type": "execute_result"
    }
   ],
   "source": [
    "loc_1 = np.array(['France', 'Iran', 'Australia', 'Mexico', 'Cuba', 'Egypt'])\n",
    "loc_1"
   ]
  },
  {
   "cell_type": "code",
   "execution_count": 15,
   "id": "05f4c310",
   "metadata": {},
   "outputs": [
    {
     "data": {
      "text/plain": [
       "array(['India', 'Peru', 'USA', 'Ghana', 'Pakistan', 'Germany'],\n",
       "      dtype='<U8')"
      ]
     },
     "execution_count": 15,
     "metadata": {},
     "output_type": "execute_result"
    }
   ],
   "source": [
    "countries"
   ]
  },
  {
   "cell_type": "code",
   "execution_count": 16,
   "id": "ff93cba6",
   "metadata": {},
   "outputs": [
    {
     "name": "stdout",
     "output_type": "stream",
     "text": [
      "Shape of loc_2 : (2, 3)\n",
      "Contents:\n",
      " [['India' 'Peru' 'USA']\n",
      " ['Ghana' 'Pakistan' 'Germany']]\n"
     ]
    }
   ],
   "source": [
    "loc_2.shape = 2,3\n",
    "\n",
    "print('Shape of loc_2 :', loc_2.shape)\n",
    "\n",
    "print('Contents:\\n', loc_2)"
   ]
  },
  {
   "cell_type": "code",
   "execution_count": 17,
   "id": "a13c871c",
   "metadata": {},
   "outputs": [
    {
     "name": "stdout",
     "output_type": "stream",
     "text": [
      "Shape of the countries array : (6,)\n",
      "Contents:\n",
      " ['India' 'Peru' 'USA' 'Ghana' 'Pakistan' 'Germany']\n"
     ]
    }
   ],
   "source": [
    "print('Shape of the countries array :', countries.shape)\n",
    "\n",
    "print('Contents:\\n', countries)"
   ]
  },
  {
   "cell_type": "code",
   "execution_count": null,
   "id": "e81ebedc",
   "metadata": {},
   "outputs": [],
   "source": []
  }
 ],
 "metadata": {
  "kernelspec": {
   "display_name": "Python 3 (ipykernel)",
   "language": "python",
   "name": "python3"
  },
  "language_info": {
   "codemirror_mode": {
    "name": "ipython",
    "version": 3
   },
   "file_extension": ".py",
   "mimetype": "text/x-python",
   "name": "python",
   "nbconvert_exporter": "python",
   "pygments_lexer": "ipython3",
   "version": "3.9.12"
  }
 },
 "nbformat": 4,
 "nbformat_minor": 5
}
