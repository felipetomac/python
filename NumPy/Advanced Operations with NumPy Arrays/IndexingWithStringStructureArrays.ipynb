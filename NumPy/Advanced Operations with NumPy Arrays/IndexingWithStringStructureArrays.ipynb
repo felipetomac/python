{
 "cells": [
  {
   "cell_type": "code",
   "execution_count": 2,
   "id": "5477397e",
   "metadata": {},
   "outputs": [],
   "source": [
    "import numpy as np"
   ]
  },
  {
   "cell_type": "code",
   "execution_count": 3,
   "id": "3b9d8140",
   "metadata": {},
   "outputs": [],
   "source": [
    "emp_names = ['Danielle','Lorena','Manuel','Ryan','Teresa','Wes']\n",
    "emp_ids = [1,2,3,4,5,6]\n",
    "emp_scores = [78.2,57.50,90,77,96.20,87.37]"
   ]
  },
  {
   "cell_type": "code",
   "execution_count": 4,
   "id": "d10fc5ab",
   "metadata": {},
   "outputs": [],
   "source": [
    "#U16: A unicode string of 16 characters\n",
    "#i4: A 4-byte int (int32)\n",
    "#f8: An 8-byte float (float64)\n",
    "emp_data = np.zeros(6, dtype = {'names' : ('Name', 'ID', 'Score'),\n",
    "                                 'formats' : ('U16','i4', 'f8')})"
   ]
  },
  {
   "cell_type": "code",
   "execution_count": 5,
   "id": "1bf58b85",
   "metadata": {},
   "outputs": [
    {
     "data": {
      "text/plain": [
       "array([('', 0, 0.), ('', 0, 0.), ('', 0, 0.), ('', 0, 0.), ('', 0, 0.),\n",
       "       ('', 0, 0.)],\n",
       "      dtype=[('Name', '<U16'), ('ID', '<i4'), ('Score', '<f8')])"
      ]
     },
     "execution_count": 5,
     "metadata": {},
     "output_type": "execute_result"
    }
   ],
   "source": [
    "emp_data"
   ]
  },
  {
   "cell_type": "code",
   "execution_count": 7,
   "id": "dc0f6638",
   "metadata": {},
   "outputs": [
    {
     "data": {
      "text/plain": [
       "array([('Danielle', 1, 78.2 ), ('Lorena', 2, 57.5 ), ('Manuel', 3, 90.  ),\n",
       "       ('Ryan', 4, 77.  ), ('Teresa', 5, 96.2 ), ('Wes', 6, 87.37)],\n",
       "      dtype=[('Name', '<U16'), ('ID', '<i4'), ('Score', '<f8')])"
      ]
     },
     "execution_count": 7,
     "metadata": {},
     "output_type": "execute_result"
    }
   ],
   "source": [
    "emp_data['Name'] = emp_names\n",
    "emp_data['ID'] = emp_ids\n",
    "emp_data['Score'] = emp_scores\n",
    "\n",
    "emp_data"
   ]
  },
  {
   "cell_type": "code",
   "execution_count": 8,
   "id": "c8d79ad1",
   "metadata": {},
   "outputs": [
    {
     "data": {
      "text/plain": [
       "array(['Danielle', 'Lorena', 'Manuel', 'Ryan', 'Teresa', 'Wes'],\n",
       "      dtype='<U16')"
      ]
     },
     "execution_count": 8,
     "metadata": {},
     "output_type": "execute_result"
    }
   ],
   "source": [
    "emp_data['Name']"
   ]
  },
  {
   "cell_type": "code",
   "execution_count": 9,
   "id": "5ca7fb0e",
   "metadata": {},
   "outputs": [
    {
     "data": {
      "text/plain": [
       "array([1, 2, 3, 4, 5, 6])"
      ]
     },
     "execution_count": 9,
     "metadata": {},
     "output_type": "execute_result"
    }
   ],
   "source": [
    "emp_data['ID']"
   ]
  },
  {
   "cell_type": "code",
   "execution_count": 10,
   "id": "c6a4c6db",
   "metadata": {},
   "outputs": [
    {
     "data": {
      "text/plain": [
       "array([78.2 , 57.5 , 90.  , 77.  , 96.2 , 87.37])"
      ]
     },
     "execution_count": 10,
     "metadata": {},
     "output_type": "execute_result"
    }
   ],
   "source": [
    "emp_data['Score']"
   ]
  },
  {
   "cell_type": "markdown",
   "id": "df9720e0",
   "metadata": {},
   "source": [
    "emp_data[2]"
   ]
  },
  {
   "cell_type": "code",
   "execution_count": 11,
   "id": "c6b05fd4",
   "metadata": {},
   "outputs": [
    {
     "data": {
      "text/plain": [
       "'Teresa'"
      ]
     },
     "execution_count": 11,
     "metadata": {},
     "output_type": "execute_result"
    }
   ],
   "source": [
    "emp_data[-2]['Name']"
   ]
  },
  {
   "cell_type": "code",
   "execution_count": 12,
   "id": "13d22153",
   "metadata": {},
   "outputs": [
    {
     "data": {
      "text/plain": [
       "96.2"
      ]
     },
     "execution_count": 12,
     "metadata": {},
     "output_type": "execute_result"
    }
   ],
   "source": [
    "emp_data[-2]['Score']"
   ]
  },
  {
   "cell_type": "code",
   "execution_count": 13,
   "id": "ebbd429d",
   "metadata": {},
   "outputs": [
    {
     "data": {
      "text/plain": [
       "array(['Manuel', 'Teresa', 'Wes'], dtype='<U16')"
      ]
     },
     "execution_count": 13,
     "metadata": {},
     "output_type": "execute_result"
    }
   ],
   "source": [
    "emp_data[emp_data['Score'] > 85]['Name']"
   ]
  },
  {
   "cell_type": "code",
   "execution_count": 14,
   "id": "6deb056b",
   "metadata": {},
   "outputs": [
    {
     "data": {
      "text/plain": [
       "array(['Lorena'], dtype='<U16')"
      ]
     },
     "execution_count": 14,
     "metadata": {},
     "output_type": "execute_result"
    }
   ],
   "source": [
    "emp_data[emp_data['Score'] < 75]['Name']"
   ]
  },
  {
   "cell_type": "code",
   "execution_count": null,
   "id": "094f6553",
   "metadata": {},
   "outputs": [],
   "source": []
  }
 ],
 "metadata": {
  "kernelspec": {
   "display_name": "Python 3 (ipykernel)",
   "language": "python",
   "name": "python3"
  },
  "language_info": {
   "codemirror_mode": {
    "name": "ipython",
    "version": 3
   },
   "file_extension": ".py",
   "mimetype": "text/x-python",
   "name": "python",
   "nbconvert_exporter": "python",
   "pygments_lexer": "ipython3",
   "version": "3.9.12"
  }
 },
 "nbformat": 4,
 "nbformat_minor": 5
}
