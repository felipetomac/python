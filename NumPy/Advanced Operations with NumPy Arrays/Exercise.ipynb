{
 "cells": [
  {
   "cell_type": "code",
   "execution_count": 1,
   "id": "cb5c82bb",
   "metadata": {},
   "outputs": [],
   "source": [
    "#Create an array which contains all the elements of an array x which are greater than 100"
   ]
  },
  {
   "cell_type": "code",
   "execution_count": 2,
   "id": "0d1ceda7",
   "metadata": {},
   "outputs": [],
   "source": [
    "#Generate 3 subarrays from an array x of 20 elements containing elements 0-6, 7-16 and 17-19 of x"
   ]
  },
  {
   "cell_type": "code",
   "execution_count": 16,
   "id": "5bece12f",
   "metadata": {},
   "outputs": [],
   "source": [
    "#Recall the conditions in which an operation can be performaed on two arrays of different shapes\n"
   ]
  },
  {
   "cell_type": "code",
   "execution_count": null,
   "id": "f2c71d25",
   "metadata": {},
   "outputs": [],
   "source": [
    "\n"
   ]
  },
  {
   "cell_type": "code",
   "execution_count": null,
   "id": "92cfdbee",
   "metadata": {},
   "outputs": [],
   "source": []
  },
  {
   "cell_type": "code",
   "execution_count": null,
   "id": "16be0b12",
   "metadata": {},
   "outputs": [],
   "source": []
  }
 ],
 "metadata": {
  "kernelspec": {
   "display_name": "Python 3 (ipykernel)",
   "language": "python",
   "name": "python3"
  },
  "language_info": {
   "codemirror_mode": {
    "name": "ipython",
    "version": 3
   },
   "file_extension": ".py",
   "mimetype": "text/x-python",
   "name": "python",
   "nbconvert_exporter": "python",
   "pygments_lexer": "ipython3",
   "version": "3.9.12"
  }
 },
 "nbformat": 4,
 "nbformat_minor": 5
}
