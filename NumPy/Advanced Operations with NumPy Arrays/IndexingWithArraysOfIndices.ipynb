{
 "cells": [
  {
   "cell_type": "code",
   "execution_count": 1,
   "id": "e659d194",
   "metadata": {},
   "outputs": [],
   "source": [
    "import numpy as np\n",
    "import csv"
   ]
  },
  {
   "cell_type": "code",
   "execution_count": 2,
   "id": "2374c249",
   "metadata": {},
   "outputs": [
    {
     "data": {
      "text/plain": [
       "array([  0,   1,   4,   9,  16,  25,  36,  49,  64,  81, 100, 121, 144,\n",
       "       169])"
      ]
     },
     "execution_count": 2,
     "metadata": {},
     "output_type": "execute_result"
    }
   ],
   "source": [
    "#array containing square number from 0 to 13\n",
    "x = np.arange(14)**2\n",
    "x"
   ]
  },
  {
   "cell_type": "code",
   "execution_count": 3,
   "id": "fdd80c14",
   "metadata": {},
   "outputs": [
    {
     "data": {
      "text/plain": [
       "(9, 49, 81, 169)"
      ]
     },
     "execution_count": 3,
     "metadata": {},
     "output_type": "execute_result"
    }
   ],
   "source": [
    "x[3],x[7],x[9],x[13]"
   ]
  },
  {
   "cell_type": "code",
   "execution_count": 4,
   "id": "5c50d310",
   "metadata": {},
   "outputs": [],
   "source": [
    "mask_1 = [3, 7, 9, 13]"
   ]
  },
  {
   "cell_type": "code",
   "execution_count": 5,
   "id": "3022c48e",
   "metadata": {},
   "outputs": [
    {
     "data": {
      "text/plain": [
       "array([  9,  49,  81, 169])"
      ]
     },
     "execution_count": 5,
     "metadata": {},
     "output_type": "execute_result"
    }
   ],
   "source": [
    "x[mask_1]"
   ]
  },
  {
   "cell_type": "code",
   "execution_count": 6,
   "id": "0b863c01",
   "metadata": {},
   "outputs": [
    {
     "data": {
      "text/plain": [
       "array([[3, 5],\n",
       "       [2, 8]])"
      ]
     },
     "execution_count": 6,
     "metadata": {},
     "output_type": "execute_result"
    }
   ],
   "source": [
    "mask_2 = np.array([[3,5], [2,8]])\n",
    "\n",
    "mask_2"
   ]
  },
  {
   "cell_type": "code",
   "execution_count": 7,
   "id": "d9993f9f",
   "metadata": {},
   "outputs": [
    {
     "data": {
      "text/plain": [
       "array([[ 9, 25],\n",
       "       [ 4, 64]])"
      ]
     },
     "execution_count": 7,
     "metadata": {},
     "output_type": "execute_result"
    }
   ],
   "source": [
    "x[mask_2]"
   ]
  },
  {
   "cell_type": "code",
   "execution_count": 8,
   "id": "fd9b1aec",
   "metadata": {},
   "outputs": [],
   "source": [
    "cities = np.array([['Sydney', 'Auckland', 'Vancouver'],\n",
    "                  ['Lima', 'Bogota', 'Lisbon'],\n",
    "                  ['Istanbul','Tehran','Colombo']])"
   ]
  },
  {
   "cell_type": "code",
   "execution_count": 9,
   "id": "1cda31af",
   "metadata": {},
   "outputs": [],
   "source": [
    "row = np.array([[0,0], [2,2]])\n",
    "col = np.array([[0,2], [0,0]])"
   ]
  },
  {
   "cell_type": "code",
   "execution_count": 10,
   "id": "85bce75e",
   "metadata": {},
   "outputs": [
    {
     "data": {
      "text/plain": [
       "array([['Sydney', 'Vancouver'],\n",
       "       ['Istanbul', 'Istanbul']], dtype='<U9')"
      ]
     },
     "execution_count": 10,
     "metadata": {},
     "output_type": "execute_result"
    }
   ],
   "source": [
    "cities[row,col]"
   ]
  },
  {
   "cell_type": "code",
   "execution_count": 11,
   "id": "6d8f0ac9",
   "metadata": {},
   "outputs": [
    {
     "data": {
      "text/plain": [
       "'Lisbon'"
      ]
     },
     "execution_count": 11,
     "metadata": {},
     "output_type": "execute_result"
    }
   ],
   "source": [
    "cities[1,2]"
   ]
  },
  {
   "cell_type": "code",
   "execution_count": 12,
   "id": "5f392476",
   "metadata": {},
   "outputs": [
    {
     "data": {
      "text/plain": [
       "array([['aaaa', 'Auckland', 'aaaa'],\n",
       "       ['Lima', 'Bogota', 'Lisbon'],\n",
       "       ['aaaa', 'Tehran', 'Colombo']], dtype='<U9')"
      ]
     },
     "execution_count": 12,
     "metadata": {},
     "output_type": "execute_result"
    }
   ],
   "source": [
    "cities[row, col] = 'aaaa'\n",
    "\n",
    "cities"
   ]
  },
  {
   "cell_type": "code",
   "execution_count": 13,
   "id": "f232d173",
   "metadata": {},
   "outputs": [
    {
     "data": {
      "text/plain": [
       "[3, 7, 9, 13]"
      ]
     },
     "execution_count": 13,
     "metadata": {},
     "output_type": "execute_result"
    }
   ],
   "source": [
    "mask_1"
   ]
  },
  {
   "cell_type": "code",
   "execution_count": 14,
   "id": "1838d96e",
   "metadata": {},
   "outputs": [
    {
     "data": {
      "text/plain": [
       "array([  0,   1,   4, 999,  16,  25,  36, 999,  64, 999, 100, 121, 144,\n",
       "       999])"
      ]
     },
     "execution_count": 14,
     "metadata": {},
     "output_type": "execute_result"
    }
   ],
   "source": [
    "x[mask_1] = 999\n",
    "x"
   ]
  },
  {
   "cell_type": "code",
   "execution_count": null,
   "id": "08c8ca3c",
   "metadata": {},
   "outputs": [],
   "source": []
  }
 ],
 "metadata": {
  "kernelspec": {
   "display_name": "Python 3 (ipykernel)",
   "language": "python",
   "name": "python3"
  },
  "language_info": {
   "codemirror_mode": {
    "name": "ipython",
    "version": 3
   },
   "file_extension": ".py",
   "mimetype": "text/x-python",
   "name": "python",
   "nbconvert_exporter": "python",
   "pygments_lexer": "ipython3",
   "version": "3.9.12"
  }
 },
 "nbformat": 4,
 "nbformat_minor": 5
}
