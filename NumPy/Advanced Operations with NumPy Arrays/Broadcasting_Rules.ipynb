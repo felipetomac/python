{
 "cells": [
  {
   "cell_type": "code",
   "execution_count": 1,
   "id": "500f1961",
   "metadata": {},
   "outputs": [],
   "source": [
    "import numpy as np"
   ]
  },
  {
   "cell_type": "code",
   "execution_count": 2,
   "id": "4d14e2ce",
   "metadata": {},
   "outputs": [],
   "source": [
    "x = np.array([2,4,6,8,10])\n",
    "y = np.array([5,5,5,5,5])"
   ]
  },
  {
   "cell_type": "code",
   "execution_count": 3,
   "id": "6c67f519",
   "metadata": {},
   "outputs": [
    {
     "data": {
      "text/plain": [
       "array([10, 20, 30, 40, 50])"
      ]
     },
     "execution_count": 3,
     "metadata": {},
     "output_type": "execute_result"
    }
   ],
   "source": [
    "x * y"
   ]
  },
  {
   "cell_type": "code",
   "execution_count": 4,
   "id": "0d54beca",
   "metadata": {},
   "outputs": [],
   "source": [
    "z = 10"
   ]
  },
  {
   "cell_type": "code",
   "execution_count": 5,
   "id": "53cf9afd",
   "metadata": {},
   "outputs": [
    {
     "data": {
      "text/plain": [
       "array([ 20,  40,  60,  80, 100])"
      ]
     },
     "execution_count": 5,
     "metadata": {},
     "output_type": "execute_result"
    }
   ],
   "source": [
    "x * z"
   ]
  },
  {
   "cell_type": "code",
   "execution_count": 6,
   "id": "50d1f3bf",
   "metadata": {},
   "outputs": [],
   "source": [
    "ones = np.ones((3,4))"
   ]
  },
  {
   "cell_type": "code",
   "execution_count": 7,
   "id": "4bdb30a3",
   "metadata": {},
   "outputs": [
    {
     "data": {
      "text/plain": [
       "array([[10., 10., 10., 10.],\n",
       "       [10., 10., 10., 10.],\n",
       "       [10., 10., 10., 10.]])"
      ]
     },
     "execution_count": 7,
     "metadata": {},
     "output_type": "execute_result"
    }
   ],
   "source": [
    "ones * z"
   ]
  },
  {
   "cell_type": "code",
   "execution_count": 8,
   "id": "a949edf1",
   "metadata": {},
   "outputs": [],
   "source": [
    "top_speeds = [184, 243, 192, 309, 257, 218]\n",
    "weights = [1178, 1243, 1243, 1047, 1673, 1475]"
   ]
  },
  {
   "cell_type": "code",
   "execution_count": 9,
   "id": "a1e13ecb",
   "metadata": {},
   "outputs": [
    {
     "data": {
      "text/plain": [
       "array([[ 184,  243,  192,  309,  257,  218],\n",
       "       [1178, 1243, 1243, 1047, 1673, 1475]])"
      ]
     },
     "execution_count": 9,
     "metadata": {},
     "output_type": "execute_result"
    }
   ],
   "source": [
    "car_info = np.array([top_speeds, weights])\n",
    "\n",
    "car_info"
   ]
  },
  {
   "cell_type": "code",
   "execution_count": 10,
   "id": "a04837f7",
   "metadata": {},
   "outputs": [
    {
     "data": {
      "text/plain": [
       "array([0.621371, 2.20462 ])"
      ]
     },
     "execution_count": 10,
     "metadata": {},
     "output_type": "execute_result"
    }
   ],
   "source": [
    "conversion_factors = np.array([0.621371, 2.20462])\n",
    "\n",
    "conversion_factors"
   ]
  },
  {
   "cell_type": "code",
   "execution_count": 11,
   "id": "6db92e16",
   "metadata": {},
   "outputs": [
    {
     "data": {
      "text/plain": [
       "(2,)"
      ]
     },
     "execution_count": 11,
     "metadata": {},
     "output_type": "execute_result"
    }
   ],
   "source": [
    "conversion_factors.shape"
   ]
  },
  {
   "cell_type": "code",
   "execution_count": 12,
   "id": "a16244b7",
   "metadata": {},
   "outputs": [
    {
     "data": {
      "text/plain": [
       "(2, 6)"
      ]
     },
     "execution_count": 12,
     "metadata": {},
     "output_type": "execute_result"
    }
   ],
   "source": [
    "car_info.shape"
   ]
  },
  {
   "cell_type": "code",
   "execution_count": 13,
   "id": "fb745f36",
   "metadata": {},
   "outputs": [
    {
     "ename": "ValueError",
     "evalue": "operands could not be broadcast together with shapes (2,6) (2,) ",
     "output_type": "error",
     "traceback": [
      "\u001b[1;31m---------------------------------------------------------------------------\u001b[0m",
      "\u001b[1;31mValueError\u001b[0m                                Traceback (most recent call last)",
      "Input \u001b[1;32mIn [13]\u001b[0m, in \u001b[0;36m<cell line: 1>\u001b[1;34m()\u001b[0m\n\u001b[1;32m----> 1\u001b[0m \u001b[43mcar_info\u001b[49m\u001b[43m \u001b[49m\u001b[38;5;241;43m*\u001b[39;49m\u001b[43m \u001b[49m\u001b[43mconversion_factors\u001b[49m\n",
      "\u001b[1;31mValueError\u001b[0m: operands could not be broadcast together with shapes (2,6) (2,) "
     ]
    }
   ],
   "source": [
    "car_info * conversion_factors"
   ]
  },
  {
   "cell_type": "code",
   "execution_count": 14,
   "id": "4a9eb206",
   "metadata": {},
   "outputs": [
    {
     "data": {
      "text/plain": [
       "array([[0.621371],\n",
       "       [2.20462 ]])"
      ]
     },
     "execution_count": 14,
     "metadata": {},
     "output_type": "execute_result"
    }
   ],
   "source": [
    "new_factors = conversion_factors.reshape(2,1)\n",
    "new_factors"
   ]
  },
  {
   "cell_type": "code",
   "execution_count": 17,
   "id": "42ae8833",
   "metadata": {},
   "outputs": [
    {
     "data": {
      "text/plain": [
       "(2, 1)"
      ]
     },
     "execution_count": 17,
     "metadata": {},
     "output_type": "execute_result"
    }
   ],
   "source": [
    "new_factors.shape"
   ]
  },
  {
   "cell_type": "code",
   "execution_count": 18,
   "id": "1f184e45",
   "metadata": {},
   "outputs": [
    {
     "data": {
      "text/plain": [
       "array([[ 114.332264,  150.993153,  119.303232,  192.003639,  159.692347,\n",
       "         135.458878],\n",
       "       [2597.04236 , 2740.34266 , 2740.34266 , 2308.23714 , 3688.32926 ,\n",
       "        3251.8145  ]])"
      ]
     },
     "execution_count": 18,
     "metadata": {},
     "output_type": "execute_result"
    }
   ],
   "source": [
    "car_info * new_factors"
   ]
  },
  {
   "cell_type": "code",
   "execution_count": null,
   "id": "2292cdbb",
   "metadata": {},
   "outputs": [],
   "source": []
  }
 ],
 "metadata": {
  "kernelspec": {
   "display_name": "Python 3 (ipykernel)",
   "language": "python",
   "name": "python3"
  },
  "language_info": {
   "codemirror_mode": {
    "name": "ipython",
    "version": 3
   },
   "file_extension": ".py",
   "mimetype": "text/x-python",
   "name": "python",
   "nbconvert_exporter": "python",
   "pygments_lexer": "ipython3",
   "version": "3.9.12"
  }
 },
 "nbformat": 4,
 "nbformat_minor": 5
}
